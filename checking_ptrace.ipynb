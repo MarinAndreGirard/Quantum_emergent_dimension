{
 "cells": [
  {
   "cell_type": "code",
   "execution_count": 1,
   "metadata": {},
   "outputs": [],
   "source": [
    "import os\n",
    "import numpy as np\n",
    "from numpy.linalg import eigvalsh\n",
    "import math\n",
    "import matplotlib.pyplot as plt\n",
    "from scipy.sparse import coo_matrix, kron\n",
    "from itertools import product, combinations\n",
    "import plotly.graph_objects as go\n",
    "from scipy.linalg import expm, sinm, cosm\n",
    "import random\n",
    "from scipy import sparse\n",
    "from scipy.linalg import eigvalsh\n",
    "\n",
    "plt.rcParams[\"font.family\"] = \"Times New Roman\"\n",
    "plt.rcParams.update({'font.size': 14})  # Change 12 to the desired font size\n",
    "# Enable LaTeX rendering in Matplotlib\n",
    "plt.rc('text', usetex=True)\n",
    "import networkx as nx\n",
    "import matplotlib.pyplot as plt\n",
    "import matplotlib.cm as cm\n",
    "\n",
    "np.set_printoptions(edgeitems=10)  # Set the number of elements at the beginning and end of each dimension when repr is called\n",
    "np.set_printoptions(threshold=1000)  # Set the total number of array elements which trigger summarization rather than full repr\n",
    "np.set_printoptions(precision=4)  # Set the precision for floating point output\n",
    "\n",
    "ar = np.array\n",
    "kr = np.kron\n",
    "T = np.transpose\n",
    "\n",
    "from MDS import *\n",
    "\n",
    "pauli_z=ar([[1,0],[0,-1]])\n",
    "pauli_y=ar([[0,-1j],[1j,0]])\n",
    "pauli_x=ar([[0,1],[1,0]])\n",
    "\n",
    "mds_from_d_3D = MDS(3,dissimilarity='euclidean')\n",
    "mds_from_d_2D = MDS(2,dissimilarity='euclidean')\n"
   ]
  },
  {
   "cell_type": "code",
   "execution_count": 2,
   "metadata": {},
   "outputs": [],
   "source": [
    "def create_custom_list(i, j, N):\n",
    "    # Initialize the result list with i and j\n",
    "    result = [i, j]\n",
    "    \n",
    "    # Iterate through the range from 0 to N\n",
    "    for num in range(N):\n",
    "        # Add the number to the list if it's not i or j\n",
    "        if num != i and num != j:\n",
    "            result.append(num)\n",
    "    \n",
    "    return result\n",
    "\n",
    "def partial_if_from_rho_new(rho,i,j,N):\n",
    "    n=2\n",
    "    m=N-n\n",
    "    perm_list=create_custom_list(i,j,N)\n",
    "    rho_permut = permute(rho, perm_list)\n",
    "    rho_ij=ptraceB(rho_permut, n , m )\n",
    "    return rho_ij.astype(complex)\n"
   ]
  },
  {
   "cell_type": "code",
   "execution_count": 3,
   "metadata": {},
   "outputs": [],
   "source": [
    "N = 12\n",
    "k=0\n",
    "folder = 'goe_xxyyzz'\n",
    "H=buildH(folder, N, k)\n",
    "eigenvalues, eigenvectors = np.linalg.eigh(H)\n",
    "psi=eigenvectors[0]\n",
    "rho=get_full_density_matrix(eigenvectors[0])"
   ]
  },
  {
   "cell_type": "code",
   "execution_count": 12,
   "metadata": {},
   "outputs": [
    {
     "name": "stdout",
     "output_type": "stream",
     "text": [
      "found eig\n",
      "defined rho\n"
     ]
    }
   ],
   "source": [
    "N = 14\n",
    "k = 2\n",
    "folder = 'goe_local2'\n",
    "H = buildH(folder, N, k)\n",
    "state_number=0\n",
    "eigenvalues, eigenvectors = np.linalg.eigh(H)\n",
    "print(\"found eig\")\n",
    "rho14=get_full_density_matrix(eigenvectors[state_number])\n",
    "print(\"defined rho\")\n"
   ]
  },
  {
   "cell_type": "code",
   "execution_count": 4,
   "metadata": {},
   "outputs": [
    {
     "name": "stdout",
     "output_type": "stream",
     "text": [
      "[2, 3, 4, 5, 6, 7, 8, 9, 10, 11]\n",
      "[2, 3, 4, 5, 6, 7, 8, 9, 10, 11, 12, 13]\n"
     ]
    }
   ],
   "source": [
    "N=12\n",
    "i=0\n",
    "j=1\n",
    "list_12 = [x for x in range(N) if x != i and x != j]\n",
    "\n",
    "print(list_12)\n",
    "N=14\n",
    "list_14 = [x for x in range(N) if x != i and x != j]\n",
    "print(list_14)"
   ]
  },
  {
   "cell_type": "code",
   "execution_count": 21,
   "metadata": {},
   "outputs": [
    {
     "name": "stdout",
     "output_type": "stream",
     "text": [
      "[[ 0.0691+0.j -0.0008+0.j -0.0057+0.j  0.0017+0.j]\n",
      " [-0.0008+0.j  0.1822+0.j  0.0006+0.j -0.0005+0.j]\n",
      " [-0.0057+0.j  0.0006+0.j  0.4721+0.j -0.0129+0.j]\n",
      " [ 0.0017+0.j -0.0005+0.j -0.0129+0.j  0.2766+0.j]]\n"
     ]
    }
   ],
   "source": [
    "rho_01=qml.math.partial_trace(rho,list_12,np.complex64)\n",
    "print(rho_01)"
   ]
  },
  {
   "cell_type": "code",
   "execution_count": 28,
   "metadata": {},
   "outputs": [
    {
     "name": "stdout",
     "output_type": "stream",
     "text": [
      "[[ 0.2442+0.j -0.0146+0.j  0.0035+0.j -0.0015+0.j]\n",
      " [-0.0146+0.j  0.2532+0.j  0.006 +0.j  0.0035+0.j]\n",
      " [ 0.0035+0.j  0.006 +0.j  0.2551+0.j -0.0134+0.j]\n",
      " [-0.0015+0.j  0.0035+0.j -0.0134+0.j  0.2475+0.j]]\n"
     ]
    }
   ],
   "source": [
    "rho_01=qml.math.reduce_statevector(eigenvectors[0], [5,7], check_state=False, c_dtype='complex64')\n",
    "print(rho_01)"
   ]
  },
  {
   "cell_type": "code",
   "execution_count": 29,
   "metadata": {},
   "outputs": [
    {
     "name": "stdout",
     "output_type": "stream",
     "text": [
      "[[ 0.2442+0.j -0.0146+0.j  0.0035+0.j -0.0015+0.j]\n",
      " [-0.0146+0.j  0.2532+0.j  0.006 +0.j  0.0035+0.j]\n",
      " [ 0.0035+0.j  0.006 +0.j  0.2551+0.j -0.0134+0.j]\n",
      " [-0.0015+0.j  0.0035+0.j -0.0134+0.j  0.2475+0.j]]\n"
     ]
    }
   ],
   "source": [
    "rho_01=partial_ij_from_rho(rho14, 5, 7, 14)\n",
    "print(rho_01)"
   ]
  },
  {
   "cell_type": "code",
   "execution_count": 23,
   "metadata": {},
   "outputs": [
    {
     "name": "stdout",
     "output_type": "stream",
     "text": [
      "[[ 0.0691+0.j -0.0008+0.j -0.0057+0.j  0.0017+0.j]\n",
      " [-0.0008+0.j  0.1822+0.j  0.0006+0.j -0.0005+0.j]\n",
      " [-0.0057+0.j  0.0006+0.j  0.4721+0.j -0.0129+0.j]\n",
      " [ 0.0017+0.j -0.0005+0.j -0.0129+0.j  0.2766+0.j]]\n"
     ]
    }
   ],
   "source": [
    "rho_01=partial_ij_from_rho(rho.astype(np.complex64), i, j, 12)\n",
    "print(rho_01)"
   ]
  },
  {
   "cell_type": "code",
   "execution_count": 14,
   "metadata": {},
   "outputs": [
    {
     "ename": "ValueError",
     "evalue": "dimensions in operand 0 for collapsing index 'd' don't match (1 != 2)",
     "output_type": "error",
     "traceback": [
      "\u001b[0;31m---------------------------------------------------------------------------\u001b[0m",
      "\u001b[0;31mValueError\u001b[0m                                Traceback (most recent call last)",
      "Cell \u001b[0;32mIn[14], line 1\u001b[0m\n\u001b[0;32m----> 1\u001b[0m rho_01\u001b[38;5;241m=\u001b[39m\u001b[43mqml\u001b[49m\u001b[38;5;241;43m.\u001b[39;49m\u001b[43mmath\u001b[49m\u001b[38;5;241;43m.\u001b[39;49m\u001b[43mreduce_dm\u001b[49m\u001b[43m(\u001b[49m\u001b[43mrho14\u001b[49m\u001b[43m,\u001b[49m\u001b[43m[\u001b[49m\u001b[38;5;241;43m0\u001b[39;49m\u001b[43m,\u001b[49m\u001b[38;5;241;43m1\u001b[39;49m\u001b[43m]\u001b[49m\u001b[43m)\u001b[49m\n\u001b[1;32m      2\u001b[0m \u001b[38;5;28mprint\u001b[39m(rho_01)\n",
      "File \u001b[0;32m/usr/local/lib/python3.11/site-packages/pennylane/math/quantum.py:243\u001b[0m, in \u001b[0;36mreduce_dm\u001b[0;34m(density_matrix, indices, check_state, c_dtype)\u001b[0m\n\u001b[1;32m    241\u001b[0m \u001b[38;5;66;03m# Compute the partial trace\u001b[39;00m\n\u001b[1;32m    242\u001b[0m traced_wires \u001b[38;5;241m=\u001b[39m [x \u001b[38;5;28;01mfor\u001b[39;00m x \u001b[38;5;129;01min\u001b[39;00m consecutive_indices \u001b[38;5;28;01mif\u001b[39;00m x \u001b[38;5;129;01mnot\u001b[39;00m \u001b[38;5;129;01min\u001b[39;00m indices]\n\u001b[0;32m--> 243\u001b[0m density_matrix \u001b[38;5;241m=\u001b[39m \u001b[43mpartial_trace\u001b[49m\u001b[43m(\u001b[49m\u001b[43mdensity_matrix\u001b[49m\u001b[43m,\u001b[49m\u001b[43m \u001b[49m\u001b[43mtraced_wires\u001b[49m\u001b[43m,\u001b[49m\u001b[43m \u001b[49m\u001b[43mc_dtype\u001b[49m\u001b[38;5;241;43m=\u001b[39;49m\u001b[43mc_dtype\u001b[49m\u001b[43m)\u001b[49m\n\u001b[1;32m    245\u001b[0m \u001b[38;5;28;01mif\u001b[39;00m batch_dim \u001b[38;5;129;01mis\u001b[39;00m \u001b[38;5;28;01mNone\u001b[39;00m:\n\u001b[1;32m    246\u001b[0m     density_matrix \u001b[38;5;241m=\u001b[39m density_matrix[\u001b[38;5;241m0\u001b[39m]\n",
      "File \u001b[0;32m/usr/local/lib/python3.11/site-packages/pennylane/math/quantum.py:330\u001b[0m, in \u001b[0;36mpartial_trace\u001b[0;34m(matrix, indices, c_dtype)\u001b[0m\n\u001b[1;32m    327\u001b[0m     state_indices \u001b[38;5;241m=\u001b[39m \u001b[38;5;124m\"\u001b[39m\u001b[38;5;124m\"\u001b[39m\u001b[38;5;241m.\u001b[39mjoin(state_indices)\n\u001b[1;32m    329\u001b[0m     einsum_indices \u001b[38;5;241m=\u001b[39m \u001b[38;5;124mf\u001b[39m\u001b[38;5;124m\"\u001b[39m\u001b[38;5;124ma\u001b[39m\u001b[38;5;132;01m{\u001b[39;00mstate_indices\u001b[38;5;132;01m}\u001b[39;00m\u001b[38;5;124m\"\u001b[39m\n\u001b[0;32m--> 330\u001b[0m     matrix \u001b[38;5;241m=\u001b[39m \u001b[43meinsum\u001b[49m\u001b[43m(\u001b[49m\u001b[43meinsum_indices\u001b[49m\u001b[43m,\u001b[49m\u001b[43m \u001b[49m\u001b[43mmatrix\u001b[49m\u001b[43m)\u001b[49m\n\u001b[1;32m    332\u001b[0m number_wires_sub \u001b[38;5;241m=\u001b[39m num_indices \u001b[38;5;241m-\u001b[39m \u001b[38;5;28mlen\u001b[39m(indices)\n\u001b[1;32m    333\u001b[0m reduced_density_matrix \u001b[38;5;241m=\u001b[39m np\u001b[38;5;241m.\u001b[39mreshape(\n\u001b[1;32m    334\u001b[0m     matrix, (batch_dim, \u001b[38;5;241m2\u001b[39m\u001b[38;5;241m*\u001b[39m\u001b[38;5;241m*\u001b[39mnumber_wires_sub, \u001b[38;5;241m2\u001b[39m\u001b[38;5;241m*\u001b[39m\u001b[38;5;241m*\u001b[39mnumber_wires_sub)\n\u001b[1;32m    335\u001b[0m )\n",
      "File \u001b[0;32m/usr/local/lib/python3.11/site-packages/pennylane/math/multi_dispatch.py:557\u001b[0m, in \u001b[0;36meinsum\u001b[0;34m(indices, like, optimize, *operands)\u001b[0m\n\u001b[1;32m    554\u001b[0m operands \u001b[38;5;241m=\u001b[39m np\u001b[38;5;241m.\u001b[39mcoerce(operands, like\u001b[38;5;241m=\u001b[39mlike)\n\u001b[1;32m    555\u001b[0m \u001b[38;5;28;01mif\u001b[39;00m optimize \u001b[38;5;129;01mis\u001b[39;00m \u001b[38;5;28;01mNone\u001b[39;00m \u001b[38;5;129;01mor\u001b[39;00m like \u001b[38;5;241m==\u001b[39m \u001b[38;5;124m\"\u001b[39m\u001b[38;5;124mtorch\u001b[39m\u001b[38;5;124m\"\u001b[39m:\n\u001b[1;32m    556\u001b[0m     \u001b[38;5;66;03m# torch einsum doesn't support the optimize keyword argument\u001b[39;00m\n\u001b[0;32m--> 557\u001b[0m     \u001b[38;5;28;01mreturn\u001b[39;00m \u001b[43mnp\u001b[49m\u001b[38;5;241;43m.\u001b[39;49m\u001b[43meinsum\u001b[49m\u001b[43m(\u001b[49m\u001b[43mindices\u001b[49m\u001b[43m,\u001b[49m\u001b[43m \u001b[49m\u001b[38;5;241;43m*\u001b[39;49m\u001b[43moperands\u001b[49m\u001b[43m,\u001b[49m\u001b[43m \u001b[49m\u001b[43mlike\u001b[49m\u001b[38;5;241;43m=\u001b[39;49m\u001b[43mlike\u001b[49m\u001b[43m)\u001b[49m\n\u001b[1;32m    558\u001b[0m \u001b[38;5;28;01mif\u001b[39;00m like \u001b[38;5;241m==\u001b[39m \u001b[38;5;124m\"\u001b[39m\u001b[38;5;124mtensorflow\u001b[39m\u001b[38;5;124m\"\u001b[39m:\n\u001b[1;32m    559\u001b[0m     \u001b[38;5;66;03m# Unpacking and casting necessary for higher order derivatives,\u001b[39;00m\n\u001b[1;32m    560\u001b[0m     \u001b[38;5;66;03m# and avoiding implicit fp32 down-conversions.\u001b[39;00m\n\u001b[1;32m    561\u001b[0m     op1, op2 \u001b[38;5;241m=\u001b[39m operands\n",
      "File \u001b[0;32m/usr/local/lib/python3.11/site-packages/autoray/autoray.py:81\u001b[0m, in \u001b[0;36mdo\u001b[0;34m(fn, like, *args, **kwargs)\u001b[0m\n\u001b[1;32m     79\u001b[0m backend \u001b[38;5;241m=\u001b[39m _choose_backend(fn, args, kwargs, like\u001b[38;5;241m=\u001b[39mlike)\n\u001b[1;32m     80\u001b[0m func \u001b[38;5;241m=\u001b[39m get_lib_fn(backend, fn)\n\u001b[0;32m---> 81\u001b[0m \u001b[38;5;28;01mreturn\u001b[39;00m \u001b[43mfunc\u001b[49m\u001b[43m(\u001b[49m\u001b[38;5;241;43m*\u001b[39;49m\u001b[43margs\u001b[49m\u001b[43m,\u001b[49m\u001b[43m \u001b[49m\u001b[38;5;241;43m*\u001b[39;49m\u001b[38;5;241;43m*\u001b[39;49m\u001b[43mkwargs\u001b[49m\u001b[43m)\u001b[49m\n",
      "File \u001b[0;32m/usr/local/lib/python3.11/site-packages/numpy/core/einsumfunc.py:1371\u001b[0m, in \u001b[0;36meinsum\u001b[0;34m(out, optimize, *operands, **kwargs)\u001b[0m\n\u001b[1;32m   1369\u001b[0m     \u001b[38;5;28;01mif\u001b[39;00m specified_out:\n\u001b[1;32m   1370\u001b[0m         kwargs[\u001b[38;5;124m'\u001b[39m\u001b[38;5;124mout\u001b[39m\u001b[38;5;124m'\u001b[39m] \u001b[38;5;241m=\u001b[39m out\n\u001b[0;32m-> 1371\u001b[0m     \u001b[38;5;28;01mreturn\u001b[39;00m \u001b[43mc_einsum\u001b[49m\u001b[43m(\u001b[49m\u001b[38;5;241;43m*\u001b[39;49m\u001b[43moperands\u001b[49m\u001b[43m,\u001b[49m\u001b[43m \u001b[49m\u001b[38;5;241;43m*\u001b[39;49m\u001b[38;5;241;43m*\u001b[39;49m\u001b[43mkwargs\u001b[49m\u001b[43m)\u001b[49m\n\u001b[1;32m   1373\u001b[0m \u001b[38;5;66;03m# Check the kwargs to avoid a more cryptic error later, without having to\u001b[39;00m\n\u001b[1;32m   1374\u001b[0m \u001b[38;5;66;03m# repeat default values here\u001b[39;00m\n\u001b[1;32m   1375\u001b[0m valid_einsum_kwargs \u001b[38;5;241m=\u001b[39m [\u001b[38;5;124m'\u001b[39m\u001b[38;5;124mdtype\u001b[39m\u001b[38;5;124m'\u001b[39m, \u001b[38;5;124m'\u001b[39m\u001b[38;5;124morder\u001b[39m\u001b[38;5;124m'\u001b[39m, \u001b[38;5;124m'\u001b[39m\u001b[38;5;124mcasting\u001b[39m\u001b[38;5;124m'\u001b[39m]\n",
      "\u001b[0;31mValueError\u001b[0m: dimensions in operand 0 for collapsing index 'd' don't match (1 != 2)"
     ]
    }
   ],
   "source": [
    "rho_01=qml.math.reduce_dm(rho14,[0,1])\n",
    "print(rho_01)"
   ]
  },
  {
   "cell_type": "code",
   "execution_count": null,
   "metadata": {},
   "outputs": [
    {
     "ename": "ValueError",
     "evalue": "dimensions in operand 0 for collapsing index 'd' don't match (1 != 2)",
     "output_type": "error",
     "traceback": [
      "\u001b[0;31m---------------------------------------------------------------------------\u001b[0m",
      "\u001b[0;31mValueError\u001b[0m                                Traceback (most recent call last)",
      "Cell \u001b[0;32mIn[57], line 1\u001b[0m\n\u001b[0;32m----> 1\u001b[0m rho_01\u001b[38;5;241m=\u001b[39m\u001b[43mqml\u001b[49m\u001b[38;5;241;43m.\u001b[39;49m\u001b[43mmath\u001b[49m\u001b[38;5;241;43m.\u001b[39;49m\u001b[43mpartial_trace\u001b[49m\u001b[43m(\u001b[49m\u001b[43mrho14\u001b[49m\u001b[43m,\u001b[49m\u001b[43mlist_14\u001b[49m\u001b[43m)\u001b[49m\n\u001b[1;32m      2\u001b[0m \u001b[38;5;28mprint\u001b[39m(rho_01)\n",
      "File \u001b[0;32m/usr/local/lib/python3.11/site-packages/pennylane/math/quantum.py:330\u001b[0m, in \u001b[0;36mpartial_trace\u001b[0;34m(matrix, indices, c_dtype)\u001b[0m\n\u001b[1;32m    327\u001b[0m     state_indices \u001b[38;5;241m=\u001b[39m \u001b[38;5;124m\"\u001b[39m\u001b[38;5;124m\"\u001b[39m\u001b[38;5;241m.\u001b[39mjoin(state_indices)\n\u001b[1;32m    329\u001b[0m     einsum_indices \u001b[38;5;241m=\u001b[39m \u001b[38;5;124mf\u001b[39m\u001b[38;5;124m\"\u001b[39m\u001b[38;5;124ma\u001b[39m\u001b[38;5;132;01m{\u001b[39;00mstate_indices\u001b[38;5;132;01m}\u001b[39;00m\u001b[38;5;124m\"\u001b[39m\n\u001b[0;32m--> 330\u001b[0m     matrix \u001b[38;5;241m=\u001b[39m \u001b[43meinsum\u001b[49m\u001b[43m(\u001b[49m\u001b[43meinsum_indices\u001b[49m\u001b[43m,\u001b[49m\u001b[43m \u001b[49m\u001b[43mmatrix\u001b[49m\u001b[43m)\u001b[49m\n\u001b[1;32m    332\u001b[0m number_wires_sub \u001b[38;5;241m=\u001b[39m num_indices \u001b[38;5;241m-\u001b[39m \u001b[38;5;28mlen\u001b[39m(indices)\n\u001b[1;32m    333\u001b[0m reduced_density_matrix \u001b[38;5;241m=\u001b[39m np\u001b[38;5;241m.\u001b[39mreshape(\n\u001b[1;32m    334\u001b[0m     matrix, (batch_dim, \u001b[38;5;241m2\u001b[39m\u001b[38;5;241m*\u001b[39m\u001b[38;5;241m*\u001b[39mnumber_wires_sub, \u001b[38;5;241m2\u001b[39m\u001b[38;5;241m*\u001b[39m\u001b[38;5;241m*\u001b[39mnumber_wires_sub)\n\u001b[1;32m    335\u001b[0m )\n",
      "File \u001b[0;32m/usr/local/lib/python3.11/site-packages/pennylane/math/multi_dispatch.py:557\u001b[0m, in \u001b[0;36meinsum\u001b[0;34m(indices, like, optimize, *operands)\u001b[0m\n\u001b[1;32m    554\u001b[0m operands \u001b[38;5;241m=\u001b[39m np\u001b[38;5;241m.\u001b[39mcoerce(operands, like\u001b[38;5;241m=\u001b[39mlike)\n\u001b[1;32m    555\u001b[0m \u001b[38;5;28;01mif\u001b[39;00m optimize \u001b[38;5;129;01mis\u001b[39;00m \u001b[38;5;28;01mNone\u001b[39;00m \u001b[38;5;129;01mor\u001b[39;00m like \u001b[38;5;241m==\u001b[39m \u001b[38;5;124m\"\u001b[39m\u001b[38;5;124mtorch\u001b[39m\u001b[38;5;124m\"\u001b[39m:\n\u001b[1;32m    556\u001b[0m     \u001b[38;5;66;03m# torch einsum doesn't support the optimize keyword argument\u001b[39;00m\n\u001b[0;32m--> 557\u001b[0m     \u001b[38;5;28;01mreturn\u001b[39;00m \u001b[43mnp\u001b[49m\u001b[38;5;241;43m.\u001b[39;49m\u001b[43meinsum\u001b[49m\u001b[43m(\u001b[49m\u001b[43mindices\u001b[49m\u001b[43m,\u001b[49m\u001b[43m \u001b[49m\u001b[38;5;241;43m*\u001b[39;49m\u001b[43moperands\u001b[49m\u001b[43m,\u001b[49m\u001b[43m \u001b[49m\u001b[43mlike\u001b[49m\u001b[38;5;241;43m=\u001b[39;49m\u001b[43mlike\u001b[49m\u001b[43m)\u001b[49m\n\u001b[1;32m    558\u001b[0m \u001b[38;5;28;01mif\u001b[39;00m like \u001b[38;5;241m==\u001b[39m \u001b[38;5;124m\"\u001b[39m\u001b[38;5;124mtensorflow\u001b[39m\u001b[38;5;124m\"\u001b[39m:\n\u001b[1;32m    559\u001b[0m     \u001b[38;5;66;03m# Unpacking and casting necessary for higher order derivatives,\u001b[39;00m\n\u001b[1;32m    560\u001b[0m     \u001b[38;5;66;03m# and avoiding implicit fp32 down-conversions.\u001b[39;00m\n\u001b[1;32m    561\u001b[0m     op1, op2 \u001b[38;5;241m=\u001b[39m operands\n",
      "File \u001b[0;32m/usr/local/lib/python3.11/site-packages/autoray/autoray.py:81\u001b[0m, in \u001b[0;36mdo\u001b[0;34m(fn, like, *args, **kwargs)\u001b[0m\n\u001b[1;32m     79\u001b[0m backend \u001b[38;5;241m=\u001b[39m _choose_backend(fn, args, kwargs, like\u001b[38;5;241m=\u001b[39mlike)\n\u001b[1;32m     80\u001b[0m func \u001b[38;5;241m=\u001b[39m get_lib_fn(backend, fn)\n\u001b[0;32m---> 81\u001b[0m \u001b[38;5;28;01mreturn\u001b[39;00m \u001b[43mfunc\u001b[49m\u001b[43m(\u001b[49m\u001b[38;5;241;43m*\u001b[39;49m\u001b[43margs\u001b[49m\u001b[43m,\u001b[49m\u001b[43m \u001b[49m\u001b[38;5;241;43m*\u001b[39;49m\u001b[38;5;241;43m*\u001b[39;49m\u001b[43mkwargs\u001b[49m\u001b[43m)\u001b[49m\n",
      "File \u001b[0;32m/usr/local/lib/python3.11/site-packages/numpy/core/einsumfunc.py:1371\u001b[0m, in \u001b[0;36meinsum\u001b[0;34m(out, optimize, *operands, **kwargs)\u001b[0m\n\u001b[1;32m   1369\u001b[0m     \u001b[38;5;28;01mif\u001b[39;00m specified_out:\n\u001b[1;32m   1370\u001b[0m         kwargs[\u001b[38;5;124m'\u001b[39m\u001b[38;5;124mout\u001b[39m\u001b[38;5;124m'\u001b[39m] \u001b[38;5;241m=\u001b[39m out\n\u001b[0;32m-> 1371\u001b[0m     \u001b[38;5;28;01mreturn\u001b[39;00m \u001b[43mc_einsum\u001b[49m\u001b[43m(\u001b[49m\u001b[38;5;241;43m*\u001b[39;49m\u001b[43moperands\u001b[49m\u001b[43m,\u001b[49m\u001b[43m \u001b[49m\u001b[38;5;241;43m*\u001b[39;49m\u001b[38;5;241;43m*\u001b[39;49m\u001b[43mkwargs\u001b[49m\u001b[43m)\u001b[49m\n\u001b[1;32m   1373\u001b[0m \u001b[38;5;66;03m# Check the kwargs to avoid a more cryptic error later, without having to\u001b[39;00m\n\u001b[1;32m   1374\u001b[0m \u001b[38;5;66;03m# repeat default values here\u001b[39;00m\n\u001b[1;32m   1375\u001b[0m valid_einsum_kwargs \u001b[38;5;241m=\u001b[39m [\u001b[38;5;124m'\u001b[39m\u001b[38;5;124mdtype\u001b[39m\u001b[38;5;124m'\u001b[39m, \u001b[38;5;124m'\u001b[39m\u001b[38;5;124morder\u001b[39m\u001b[38;5;124m'\u001b[39m, \u001b[38;5;124m'\u001b[39m\u001b[38;5;124mcasting\u001b[39m\u001b[38;5;124m'\u001b[39m]\n",
      "\u001b[0;31mValueError\u001b[0m: dimensions in operand 0 for collapsing index 'd' don't match (1 != 2)"
     ]
    }
   ],
   "source": [
    "rho_01=qml.math.partial_trace(rho14,list_14,complex64)\n",
    "print(rho_01)"
   ]
  },
  {
   "cell_type": "code",
   "execution_count": null,
   "metadata": {},
   "outputs": [],
   "source": []
  },
  {
   "cell_type": "code",
   "execution_count": 59,
   "metadata": {},
   "outputs": [
    {
     "name": "stdout",
     "output_type": "stream",
     "text": [
      "[[0.1364+0.j 0.0006+0.j 0.0007+0.j 0.0023+0.j]\n",
      " [0.0006+0.j 0.2564+0.j 0.0021+0.j 0.0037+0.j]\n",
      " [0.0007+0.j 0.0021+0.j 0.2945+0.j 0.0022+0.j]\n",
      " [0.0023+0.j 0.0037+0.j 0.0022+0.j 0.3128+0.j]]\n"
     ]
    }
   ],
   "source": [
    "rho_01=partial_ij_from_rho(rho14, i, j, 14)\n",
    "print(rho_01)"
   ]
  },
  {
   "cell_type": "code",
   "execution_count": null,
   "metadata": {},
   "outputs": [],
   "source": []
  },
  {
   "cell_type": "code",
   "execution_count": 18,
   "metadata": {},
   "outputs": [
    {
     "ename": "NameError",
     "evalue": "name 'partial_if_from_rho_new' is not defined",
     "output_type": "error",
     "traceback": [
      "\u001b[0;31m---------------------------------------------------------------------------\u001b[0m",
      "\u001b[0;31mNameError\u001b[0m                                 Traceback (most recent call last)",
      "Cell \u001b[0;32mIn[18], line 1\u001b[0m\n\u001b[0;32m----> 1\u001b[0m rho_57 \u001b[38;5;241m=\u001b[39m \u001b[43mpartial_if_from_rho_new\u001b[49m(rho,\u001b[38;5;241m5\u001b[39m,\u001b[38;5;241m7\u001b[39m,N)\n\u001b[1;32m      2\u001b[0m \u001b[38;5;28mprint\u001b[39m(rho_57)\n",
      "\u001b[0;31mNameError\u001b[0m: name 'partial_if_from_rho_new' is not defined"
     ]
    }
   ],
   "source": [
    "rho_57 = partial_if_from_rho_new(rho,0,1,N)\n",
    "print(rho_57)\n"
   ]
  },
  {
   "cell_type": "code",
   "execution_count": null,
   "metadata": {},
   "outputs": [],
   "source": [
    "rho_57 = ptraceBpure(psi, 2 , 10 ) #we get ride of the first 2 qubits and keep the next 10!\n",
    "print(rho_57)\n",
    "rho_57_2=partial_ij_from_rho(rho, 5, 7, N)\n",
    "print(rho_57_2)"
   ]
  },
  {
   "cell_type": "code",
   "execution_count": 43,
   "metadata": {},
   "outputs": [],
   "source": []
  },
  {
   "cell_type": "code",
   "execution_count": 41,
   "metadata": {},
   "outputs": [
    {
     "name": "stdout",
     "output_type": "stream",
     "text": [
      "[0, 2, 1, 3, 4, 5, 6, 7, 8, 9, 10]\n"
     ]
    }
   ],
   "source": []
  },
  {
   "cell_type": "code",
   "execution_count": null,
   "metadata": {},
   "outputs": [],
   "source": []
  },
  {
   "cell_type": "code",
   "execution_count": null,
   "metadata": {},
   "outputs": [],
   "source": []
  },
  {
   "cell_type": "code",
   "execution_count": null,
   "metadata": {},
   "outputs": [],
   "source": []
  },
  {
   "cell_type": "code",
   "execution_count": null,
   "metadata": {},
   "outputs": [],
   "source": []
  },
  {
   "cell_type": "code",
   "execution_count": null,
   "metadata": {},
   "outputs": [],
   "source": []
  },
  {
   "cell_type": "code",
   "execution_count": null,
   "metadata": {},
   "outputs": [],
   "source": []
  },
  {
   "cell_type": "code",
   "execution_count": null,
   "metadata": {},
   "outputs": [],
   "source": []
  },
  {
   "cell_type": "code",
   "execution_count": null,
   "metadata": {},
   "outputs": [],
   "source": []
  },
  {
   "cell_type": "code",
   "execution_count": null,
   "metadata": {},
   "outputs": [],
   "source": []
  }
 ],
 "metadata": {
  "kernelspec": {
   "display_name": "Python 3",
   "language": "python",
   "name": "python3"
  },
  "language_info": {
   "codemirror_mode": {
    "name": "ipython",
    "version": 3
   },
   "file_extension": ".py",
   "mimetype": "text/x-python",
   "name": "python",
   "nbconvert_exporter": "python",
   "pygments_lexer": "ipython3",
   "version": "3.11.7"
  }
 },
 "nbformat": 4,
 "nbformat_minor": 2
}
