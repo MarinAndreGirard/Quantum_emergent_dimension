{
 "cells": [
  {
   "cell_type": "code",
   "execution_count": 6,
   "metadata": {},
   "outputs": [],
   "source": [
    "import os\n",
    "import numpy as np\n",
    "from numpy.linalg import eigvalsh\n",
    "import math\n",
    "import matplotlib.pyplot as plt\n",
    "from scipy.sparse import coo_matrix, kron\n",
    "from itertools import product, combinations\n",
    "import plotly.graph_objects as go\n",
    "from scipy.linalg import expm, sinm, cosm\n",
    "\n",
    "plt.rcParams[\"font.family\"] = \"Times New Roman\"\n",
    "plt.rcParams.update({'font.size': 14})  # Change 12 to the desired font size\n",
    "# Enable LaTeX rendering in Matplotlib\n",
    "plt.rc('text', usetex=True)\n",
    "import networkx as nx\n",
    "import matplotlib.pyplot as plt\n",
    "import matplotlib.cm as cm\n",
    "\n",
    "np.set_printoptions(edgeitems=10)  # Set the number of elements at the beginning and end of each dimension when repr is called\n",
    "np.set_printoptions(threshold=1000)  # Set the total number of array elements which trigger summarization rather than full repr\n",
    "np.set_printoptions(precision=4)  # Set the precision for floating point output\n",
    "\n",
    "ar = np.array\n",
    "kr = np.kron\n",
    "T = np.transpose\n",
    "\n",
    "from MDS import *\n",
    "\n",
    "pauli_z=ar([[1,0],[0,-1]])\n",
    "pauli_y=ar([[0,-1j],[1j,0]])\n",
    "pauli_x=ar([[0,1],[1,0]])\n",
    "\n",
    "import warnings\n",
    "warnings.filterwarnings('ignore')\n",
    "\n",
    "mds_from_d_3D = MDS(3,dissimilarity='euclidean')\n",
    "mds_from_d_2D = MDS(2,dissimilarity='euclidean')\n"
   ]
  },
  {
   "cell_type": "markdown",
   "metadata": {},
   "source": [
    "Rather than averaging the couplings, we use multiple instances (k=0 to k=12) goe_xxyyzz and average over the stress. We also repeat this for goe_local2"
   ]
  },
  {
   "cell_type": "code",
   "execution_count": 11,
   "metadata": {},
   "outputs": [
    {
     "name": "stdout",
     "output_type": "stream",
     "text": [
      "0\n",
      "[ 1.3452e+02  9.0042e+01  7.6898e+01  6.9788e+01  4.7489e+01  4.5142e+01\n",
      "  2.7915e+01  2.5329e+01  1.4661e+01  1.1787e+01  6.1248e+00 -6.0922e-15]\n",
      "1\n",
      "[1.0716e+02 7.6430e+01 6.4008e+01 5.5090e+01 4.8730e+01 4.0517e+01\n",
      " 3.3972e+01 2.6499e+01 1.9883e+01 1.4161e+01 5.1948e+00 1.3940e-14]\n",
      "2\n",
      "[1.0311e+02 7.7137e+01 5.8364e+01 5.0797e+01 4.2327e+01 3.7824e+01\n",
      " 3.0196e+01 2.5019e+01 1.8950e+01 9.6635e+00 6.0803e+00 8.7925e-15]\n",
      "3\n",
      "[ 1.0699e+02  8.1158e+01  5.8797e+01  5.1843e+01  4.7544e+01  3.7706e+01\n",
      "  3.6001e+01  2.0890e+01  1.7695e+01  1.2548e+01  1.3403e+00 -2.1814e-14]\n",
      "4\n",
      "[ 1.0498e+02  7.8763e+01  7.4351e+01  5.5386e+01  5.1301e+01  3.9403e+01\n",
      "  3.0808e+01  2.5749e+01  1.8743e+01  1.1029e+01  6.3801e+00 -1.6704e-15]\n",
      "5\n",
      "[1.1562e+02 8.5337e+01 6.4749e+01 5.4866e+01 4.9681e+01 4.2150e+01\n",
      " 3.1328e+01 2.3122e+01 1.6253e+01 1.3484e+01 2.0584e+00 8.2446e-15]\n",
      "6\n",
      "[ 1.3205e+02  8.2203e+01  6.7814e+01  4.5803e+01  4.2734e+01  4.0213e+01\n",
      "  2.8760e+01  2.3385e+01  1.6090e+01  9.6632e+00  2.2698e+00 -9.7729e-15]\n",
      "7\n",
      "[ 1.4391e+02  8.3583e+01  6.5485e+01  5.0392e+01  4.2005e+01  3.7325e+01\n",
      "  2.0329e+01  1.8628e+01  1.4654e+01  8.5448e+00  1.9726e-01 -4.9330e-15]\n"
     ]
    },
    {
     "data": {
      "image/png": "[encoded data removed]",
      "text/plain": [
       "<Figure size 640x480 with 1 Axes>"
      ]
     },
     "metadata": {},
     "output_type": "display_data"
    },
    {
     "data": {
      "image/png": "[encoded data removed]",
      "text/plain": [
       "<Figure size 640x480 with 1 Axes>"
      ]
     },
     "metadata": {},
     "output_type": "display_data"
    }
   ],
   "source": [
    "range_k=8\n",
    "folder = 'goe_xxyyzz'\n",
    "N=12\n",
    "state_number=0\n",
    "eigen_avg=np.zeros(N)\n",
    "stress_avg=np.zeros(N-1)\n",
    "for k in range(range_k):\n",
    "    file_name=folder+f\"{N}_{k}_{state_number}\"\n",
    "    dab=load_d(file_name)\n",
    "    stress_avg+=get_stress(dab,False)\n",
    "    eigen_avg+=get_eigenvalues_B_from_dab(dab,N,file_name,False)\n",
    "eigen_avg=eigen_avg/(N*max(eigen_avg))\n",
    "stress_avg=stress_avg/((N-1)*max(stress_avg))\n",
    "plt.scatter(range(len(eigen_avg)),eigen_avg)\n",
    "plt.show()\n",
    "\n",
    "plt.scatter(range(len(stress_avg)),stress_avg)\n",
    "plt.show()\n"
   ]
  },
  {
   "cell_type": "code",
   "execution_count": null,
   "metadata": {},
   "outputs": [],
   "source": []
  },
  {
   "cell_type": "code",
   "execution_count": null,
   "metadata": {},
   "outputs": [],
   "source": []
  },
  {
   "cell_type": "code",
   "execution_count": null,
   "metadata": {},
   "outputs": [],
   "source": []
  },
  {
   "cell_type": "code",
   "execution_count": null,
   "metadata": {},
   "outputs": [],
   "source": []
  },
  {
   "cell_type": "code",
   "execution_count": null,
   "metadata": {},
   "outputs": [],
   "source": []
  },
  {
   "cell_type": "code",
   "execution_count": null,
   "metadata": {},
   "outputs": [],
   "source": []
  },
  {
   "cell_type": "code",
   "execution_count": null,
   "metadata": {},
   "outputs": [],
   "source": []
  },
  {
   "cell_type": "code",
   "execution_count": null,
   "metadata": {},
   "outputs": [],
   "source": []
  },
  {
   "cell_type": "code",
   "execution_count": null,
   "metadata": {},
   "outputs": [],
   "source": []
  }
 ],
 "metadata": {
  "kernelspec": {
   "display_name": "Python 3",
   "language": "python",
   "name": "python3"
  },
  "language_info": {
   "codemirror_mode": {
    "name": "ipython",
    "version": 3
   },
   "file_extension": ".py",
   "mimetype": "text/x-python",
   "name": "python",
   "nbconvert_exporter": "python",
   "pygments_lexer": "ipython3",
   "version": "3.11.7"
  }
 },
 "nbformat": 4,
 "nbformat_minor": 2
}
