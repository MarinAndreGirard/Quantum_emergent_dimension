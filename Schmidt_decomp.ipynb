{
 "cells": [
  {
   "cell_type": "code",
   "execution_count": 2,
   "metadata": {},
   "outputs": [],
   "source": [
    "import os\n",
    "import numpy as np\n",
    "from numpy.linalg import eigvalsh\n",
    "import math\n",
    "import matplotlib.pyplot as plt\n",
    "from scipy.sparse import coo_matrix, kron\n",
    "from itertools import product, combinations\n",
    "import plotly.graph_objects as go\n",
    "from scipy.linalg import expm, sinm, cosm\n",
    "import random\n",
    "from scipy import sparse\n",
    "from scipy.linalg import eigvalsh\n",
    "\n",
    "plt.rcParams[\"font.family\"] = \"Times New Roman\"\n",
    "plt.rcParams.update({'font.size': 14})  # Change 12 to the desired font size\n",
    "# Enable LaTeX rendering in Matplotlib\n",
    "plt.rc('text', usetex=True)\n",
    "import networkx as nx\n",
    "import matplotlib.pyplot as plt\n",
    "import matplotlib.cm as cm\n",
    "\n",
    "np.set_printoptions(edgeitems=10)  # Set the number of elements at the beginning and end of each dimension when repr is called\n",
    "np.set_printoptions(threshold=1000)  # Set the total number of array elements which trigger summarization rather than full repr\n",
    "np.set_printoptions(precision=4)  # Set the precision for floating point output\n",
    "\n",
    "ar = np.array\n",
    "kr = np.kron\n",
    "T = np.transpose\n",
    "\n",
    "from MDS import *\n",
    "\n",
    "pauli_z=ar([[1,0],[0,-1]])\n",
    "pauli_y=ar([[0,-1j],[1j,0]])\n",
    "pauli_x=ar([[0,1],[1,0]])\n",
    "\n",
    "mds_from_d_3D = MDS(3,dissimilarity='euclidean')\n",
    "mds_from_d_2D = MDS(2,dissimilarity='euclidean')\n"
   ]
  },
  {
   "cell_type": "markdown",
   "metadata": {},
   "source": [
    "Charles's idea do a diagonalization of my density matrix. You extend the concept of Schmidt decomposition to multipartide by considering tensors.\n",
    "\n",
    "I think i need to see the state as a tensor product. psi=one big vector. rho=outer(psi,psi). "
   ]
  },
  {
   "cell_type": "code",
   "execution_count": 11,
   "metadata": {},
   "outputs": [
    {
     "name": "stdout",
     "output_type": "stream",
     "text": [
      "found eig\n",
      "defined rho\n"
     ]
    }
   ],
   "source": [
    "N = 12\n",
    "k = 0\n",
    "folder = 'goe_xxyyzz'\n",
    "H = buildH(folder, N, k)\n",
    "\n",
    "eigenvalues, eigenvectors = np.linalg.eigh(H)\n",
    "print(\"found eig\")\n",
    "rho=get_full_density_matrix(eigenvectors[0])\n",
    "print(\"defined rho\")\n"
   ]
  },
  {
   "cell_type": "code",
   "execution_count": 12,
   "metadata": {},
   "outputs": [
    {
     "name": "stdout",
     "output_type": "stream",
     "text": [
      "[-0.0311 -0.031  -0.031  -0.0309 -0.0309 -0.0308 -0.0307 -0.0306 -0.0305\n",
      " -0.0305 ...  0.0305  0.0305  0.0305  0.0306  0.0307  0.0307  0.0309\n",
      "  0.0309  0.031   0.0311]\n"
     ]
    }
   ],
   "source": [
    "eigenvalues_rho,eigenstates_rho=np.linalg.eigh(H)\n",
    "print(eigenvalues_rho)"
   ]
  },
  {
   "cell_type": "code",
   "execution_count": 16,
   "metadata": {},
   "outputs": [
    {
     "name": "stdout",
     "output_type": "stream",
     "text": [
      "[[ 0.2518+0.j -0.0163+0.j  0.0094+0.j  0.0043+0.j]\n",
      " [-0.0163+0.j  0.2405+0.j  0.0241+0.j  0.0006+0.j]\n",
      " [ 0.0094+0.j  0.0241+0.j  0.2479+0.j -0.0166+0.j]\n",
      " [ 0.0043+0.j  0.0006+0.j -0.0166+0.j  0.2598+0.j]]\n"
     ]
    }
   ],
   "source": []
  },
  {
   "cell_type": "code",
   "execution_count": 1,
   "metadata": {},
   "outputs": [
    {
     "name": "stdout",
     "output_type": "stream",
     "text": [
      "Von Neumann Entropy: 0.5352200141062059\n"
     ]
    }
   ],
   "source": [
    "import numpy as np\n",
    "from scipy.linalg import svd\n",
    "\n",
    "# Example state vector for an N=4 qubit system\n",
    "# Normalized random complex state vector\n",
    "N = 4\n",
    "psi = np.random.rand(2**N) + 1j * np.random.rand(2**N)\n",
    "psi /= np.linalg.norm(psi)  # Normalize the state\n",
    "\n",
    "# Reshape the state vector to consider qubits 0 and 1 vs. the rest\n",
    "# For qubits 0 and 1, we reshape into (2^2, 2^(N-2)) = (4, 2^(4-2)) = (4, 4)\n",
    "psi_matrix = psi.reshape(4, -1)  # shape (4, 4) for 4 qubits with 2 in each partition\n",
    "\n",
    "# Perform SVD\n",
    "U, S, Vh = svd(psi_matrix)\n",
    "\n",
    "# S contains the singular values, which are the Schmidt coefficients\n",
    "schmidt_coefficients = S\n",
    "\n",
    "# Compute the von Neumann entropy\n",
    "entropy = -np.sum(schmidt_coefficients**2 * np.log(schmidt_coefficients**2))\n",
    "\n",
    "print(\"Von Neumann Entropy:\", entropy)\n"
   ]
  },
  {
   "cell_type": "code",
   "execution_count": 10,
   "metadata": {},
   "outputs": [
    {
     "data": {
      "text/plain": [
       "array([[1.+0.j, 0.+0.j],\n",
       "       [0.+0.j, 0.+0.j]])"
      ]
     },
     "execution_count": 10,
     "metadata": {},
     "output_type": "execute_result"
    }
   ],
   "source": []
  },
  {
   "cell_type": "code",
   "execution_count": null,
   "metadata": {},
   "outputs": [],
   "source": []
  },
  {
   "cell_type": "code",
   "execution_count": null,
   "metadata": {},
   "outputs": [],
   "source": []
  },
  {
   "cell_type": "code",
   "execution_count": null,
   "metadata": {},
   "outputs": [],
   "source": []
  },
  {
   "cell_type": "code",
   "execution_count": null,
   "metadata": {},
   "outputs": [],
   "source": []
  },
  {
   "cell_type": "code",
   "execution_count": null,
   "metadata": {},
   "outputs": [],
   "source": []
  }
 ],
 "metadata": {
  "kernelspec": {
   "display_name": "Python 3",
   "language": "python",
   "name": "python3"
  },
  "language_info": {
   "codemirror_mode": {
    "name": "ipython",
    "version": 3
   },
   "file_extension": ".py",
   "mimetype": "text/x-python",
   "name": "python",
   "nbconvert_exporter": "python",
   "pygments_lexer": "ipython3",
   "version": "3.11.7"
  }
 },
 "nbformat": 4,
 "nbformat_minor": 2
}
