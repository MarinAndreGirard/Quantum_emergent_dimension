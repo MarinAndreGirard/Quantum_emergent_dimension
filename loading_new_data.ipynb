{
 "cells": [
  {
   "cell_type": "code",
   "execution_count": 1,
   "metadata": {},
   "outputs": [],
   "source": [
    "import os\n",
    "import numpy as np\n",
    "from numpy.linalg import eigvalsh\n",
    "import math\n",
    "import matplotlib.pyplot as plt\n",
    "from scipy.sparse import coo_matrix, kron\n",
    "from itertools import product, combinations\n",
    "import plotly.graph_objects as go\n",
    "from scipy.linalg import expm, sinm, cosm\n",
    "import random\n",
    "from scipy import sparse\n",
    "from scipy.linalg import eigvalsh\n",
    "\n",
    "plt.rcParams[\"font.family\"] = \"Times New Roman\"\n",
    "plt.rcParams.update({'font.size': 14})  # Change 12 to the desired font size\n",
    "# Enable LaTeX rendering in Matplotlib\n",
    "plt.rc('text', usetex=True)\n",
    "import networkx as nx\n",
    "import matplotlib.pyplot as plt\n",
    "import matplotlib.cm as cm\n",
    "\n",
    "np.set_printoptions(edgeitems=10)  # Set the number of elements at the beginning and end of each dimension when repr is called\n",
    "np.set_printoptions(threshold=1000)  # Set the total number of array elements which trigger summarization rather than full repr\n",
    "np.set_printoptions(precision=4)  # Set the precision for floating point output\n",
    "\n",
    "ar = np.array\n",
    "kr = np.kron\n",
    "T = np.transpose\n",
    "\n",
    "from MDS import *\n",
    "\n",
    "pauli_z=ar([[1,0],[0,-1]])\n",
    "pauli_y=ar([[0,-1j],[1j,0]])\n",
    "pauli_x=ar([[0,1],[1,0]])\n",
    "\n",
    "mds_from_d_3D = MDS(3,dissimilarity='euclidean')\n",
    "mds_from_d_2D = MDS(2,dissimilarity='euclidean')\n"
   ]
  },
  {
   "cell_type": "code",
   "execution_count": 3,
   "metadata": {},
   "outputs": [],
   "source": [
    "N = 12\n",
    "k = 0\n",
    "folder = 'goe_xxyyzz'\n",
    "Hlocal = buildH(folder, N, k)\n"
   ]
  },
  {
   "cell_type": "code",
   "execution_count": 5,
   "metadata": {},
   "outputs": [],
   "source": []
  },
  {
   "cell_type": "code",
   "execution_count": null,
   "metadata": {},
   "outputs": [],
   "source": []
  },
  {
   "cell_type": "code",
   "execution_count": null,
   "metadata": {},
   "outputs": [],
   "source": []
  },
  {
   "cell_type": "code",
   "execution_count": null,
   "metadata": {},
   "outputs": [],
   "source": []
  },
  {
   "cell_type": "code",
   "execution_count": null,
   "metadata": {},
   "outputs": [],
   "source": []
  }
 ],
 "metadata": {
  "kernelspec": {
   "display_name": "Python 3",
   "language": "python",
   "name": "python3"
  },
  "language_info": {
   "codemirror_mode": {
    "name": "ipython",
    "version": 3
   },
   "file_extension": ".py",
   "mimetype": "text/x-python",
   "name": "python",
   "nbconvert_exporter": "python",
   "pygments_lexer": "ipython3",
   "version": "3.11.7"
  }
 },
 "nbformat": 4,
 "nbformat_minor": 2
}
